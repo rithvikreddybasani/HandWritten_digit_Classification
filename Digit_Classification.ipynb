{
  "nbformat": 4,
  "nbformat_minor": 0,
  "metadata": {
    "colab": {
      "provenance": []
    },
    "kernelspec": {
      "name": "python3",
      "display_name": "Python 3"
    },
    "language_info": {
      "name": "python"
    }
  },
  "cells": [
    {
      "cell_type": "code",
      "execution_count": 233,
      "metadata": {
        "id": "POsAYfSV0k9d"
      },
      "outputs": [],
      "source": [
        "import numpy as np\n",
        "import matplotlib.pyplot as plt\n",
        "import seaborn as sns\n",
        "import cv2\n",
        "from google.colab.patches import cv2_imshow\n",
        "from PIL import Image\n",
        "import tensorflow as tf\n",
        "tf.random.set_seed(3)\n",
        "from tensorflow import keras\n",
        "from keras.datasets import mnist\n",
        "from tensorflow.math import confusion_matrix"
      ]
    },
    {
      "cell_type": "code",
      "source": [
        "(X_train,Y_train),(X_test,Y_test) = mnist.load_data()"
      ],
      "metadata": {
        "id": "5uEUnvFN0y50"
      },
      "execution_count": 234,
      "outputs": []
    },
    {
      "cell_type": "code",
      "source": [
        "type(X_train)"
      ],
      "metadata": {
        "colab": {
          "base_uri": "https://localhost:8080/"
        },
        "id": "mY_CToJa2BT3",
        "outputId": "b2ed71a6-1a6b-4092-fcb4-694e74722fca"
      },
      "execution_count": 235,
      "outputs": [
        {
          "output_type": "execute_result",
          "data": {
            "text/plain": [
              "numpy.ndarray"
            ]
          },
          "metadata": {},
          "execution_count": 235
        }
      ]
    },
    {
      "cell_type": "code",
      "source": [
        "X_train.shape"
      ],
      "metadata": {
        "colab": {
          "base_uri": "https://localhost:8080/"
        },
        "id": "EiLeRX-O2E_s",
        "outputId": "23c9750e-f3d7-41c2-de30-863e3ef4559c"
      },
      "execution_count": 236,
      "outputs": [
        {
          "output_type": "execute_result",
          "data": {
            "text/plain": [
              "(60000, 28, 28)"
            ]
          },
          "metadata": {},
          "execution_count": 236
        }
      ]
    },
    {
      "cell_type": "code",
      "source": [
        "X_test.shape"
      ],
      "metadata": {
        "colab": {
          "base_uri": "https://localhost:8080/"
        },
        "id": "enAXj74x2MSe",
        "outputId": "6d39fc9d-1ed8-404e-c18c-dde7a736a60a"
      },
      "execution_count": 237,
      "outputs": [
        {
          "output_type": "execute_result",
          "data": {
            "text/plain": [
              "(10000, 28, 28)"
            ]
          },
          "metadata": {},
          "execution_count": 237
        }
      ]
    },
    {
      "cell_type": "code",
      "source": [
        "X_train[10]"
      ],
      "metadata": {
        "colab": {
          "base_uri": "https://localhost:8080/",
          "height": 68
        },
        "id": "t3q0IbrD2nkZ",
        "outputId": "339e63b5-5c05-467d-96f3-40963993c992"
      },
      "execution_count": 238,
      "outputs": [
        {
          "output_type": "execute_result",
          "data": {
            "text/plain": [
              "array([[  0,   0,   0,   0,   0,   0,   0,   0,   0,   0,   0,   0,   0,\n",
              "          0,   0,   0,   0,   0,   0,   0,   0,   0,   0,   0,   0,   0,\n",
              "          0,   0],\n",
              "       [  0,   0,   0,   0,   0,   0,   0,   0,   0,   0,   0,   0,   0,\n",
              "          0,   0,   0,   0,   0,   0,   0,   0,   0,   0,   0,   0,   0,\n",
              "          0,   0],\n",
              "       [  0,   0,   0,   0,   0,   0,   0,   0,   0,   0,   0,   0,   0,\n",
              "          0,   0,   0,   0,   0,   0,   0,   0,   0,   0,   0,   0,   0,\n",
              "          0,   0],\n",
              "       [  0,   0,   0,   0,   0,   0,   0,   0,   0,   0,   0,   0,   0,\n",
              "          0,   0,   0,   0,   0,   0,   0,   0,   0,   0,   0,   0,   0,\n",
              "          0,   0],\n",
              "       [  0,   0,   0,   0,   0,   0,   0,   0,   0,   0,   0,  42, 118,\n",
              "        219, 166, 118, 118,   6,   0,   0,   0,   0,   0,   0,   0,   0,\n",
              "          0,   0],\n",
              "       [  0,   0,   0,   0,   0,   0,   0,   0,   0,   0, 103, 242, 254,\n",
              "        254, 254, 254, 254,  66,   0,   0,   0,   0,   0,   0,   0,   0,\n",
              "          0,   0],\n",
              "       [  0,   0,   0,   0,   0,   0,   0,   0,   0,   0,  18, 232, 254,\n",
              "        254, 254, 254, 254, 238,  70,   0,   0,   0,   0,   0,   0,   0,\n",
              "          0,   0],\n",
              "       [  0,   0,   0,   0,   0,   0,   0,   0,   0,   0,   0, 104, 244,\n",
              "        254, 224, 254, 254, 254, 141,   0,   0,   0,   0,   0,   0,   0,\n",
              "          0,   0],\n",
              "       [  0,   0,   0,   0,   0,   0,   0,   0,   0,   0,   0,   0, 207,\n",
              "        254, 210, 254, 254, 254,  34,   0,   0,   0,   0,   0,   0,   0,\n",
              "          0,   0],\n",
              "       [  0,   0,   0,   0,   0,   0,   0,   0,   0,   0,   0,   0,  84,\n",
              "        206, 254, 254, 254, 254,  41,   0,   0,   0,   0,   0,   0,   0,\n",
              "          0,   0],\n",
              "       [  0,   0,   0,   0,   0,   0,   0,   0,   0,   0,   0,   0,   0,\n",
              "         24, 209, 254, 254, 254, 171,   0,   0,   0,   0,   0,   0,   0,\n",
              "          0,   0],\n",
              "       [  0,   0,   0,   0,   0,   0,   0,   0,   0,   0,   0,   0,  91,\n",
              "        137, 253, 254, 254, 254, 112,   0,   0,   0,   0,   0,   0,   0,\n",
              "          0,   0],\n",
              "       [  0,   0,   0,   0,   0,   0,   0,   0,   0,   0,  40, 214, 250,\n",
              "        254, 254, 254, 254, 254,  34,   0,   0,   0,   0,   0,   0,   0,\n",
              "          0,   0],\n",
              "       [  0,   0,   0,   0,   0,   0,   0,   0,   0,   0,  81, 247, 254,\n",
              "        254, 254, 254, 254, 254, 146,   0,   0,   0,   0,   0,   0,   0,\n",
              "          0,   0],\n",
              "       [  0,   0,   0,   0,   0,   0,   0,   0,   0,   0,   0, 110, 246,\n",
              "        254, 254, 254, 254, 254, 171,   0,   0,   0,   0,   0,   0,   0,\n",
              "          0,   0],\n",
              "       [  0,   0,   0,   0,   0,   0,   0,   0,   0,   0,   0,   0,  73,\n",
              "         89,  89,  93, 240, 254, 171,   0,   0,   0,   0,   0,   0,   0,\n",
              "          0,   0],\n",
              "       [  0,   0,   0,   0,   0,   0,   0,   0,   0,   0,   0,   0,   0,\n",
              "          0,   0,   1, 128, 254, 219,  31,   0,   0,   0,   0,   0,   0,\n",
              "          0,   0],\n",
              "       [  0,   0,   0,   0,   0,   0,   0,   0,   0,   0,   0,   0,   0,\n",
              "          0,   0,   7, 254, 254, 214,  28,   0,   0,   0,   0,   0,   0,\n",
              "          0,   0],\n",
              "       [  0,   0,   0,   0,   0,   0,   0,   0,   0,   0,   0,   0,   0,\n",
              "          0,   0, 138, 254, 254, 116,   0,   0,   0,   0,   0,   0,   0,\n",
              "          0,   0],\n",
              "       [  0,   0,   0,   0,   0,   0,  19, 177,  90,   0,   0,   0,   0,\n",
              "          0,  25, 240, 254, 254,  34,   0,   0,   0,   0,   0,   0,   0,\n",
              "          0,   0],\n",
              "       [  0,   0,   0,   0,   0,   0, 164, 254, 215,  63,  36,   0,  51,\n",
              "         89, 206, 254, 254, 139,   8,   0,   0,   0,   0,   0,   0,   0,\n",
              "          0,   0],\n",
              "       [  0,   0,   0,   0,   0,   0,  57, 197, 254, 254, 222, 180, 241,\n",
              "        254, 254, 253, 213,  11,   0,   0,   0,   0,   0,   0,   0,   0,\n",
              "          0,   0],\n",
              "       [  0,   0,   0,   0,   0,   0,   0, 140, 105, 254, 254, 254, 254,\n",
              "        254, 254, 236,   0,   0,   0,   0,   0,   0,   0,   0,   0,   0,\n",
              "          0,   0],\n",
              "       [  0,   0,   0,   0,   0,   0,   0,   0,   7, 117, 117, 165, 254,\n",
              "        254, 239,  50,   0,   0,   0,   0,   0,   0,   0,   0,   0,   0,\n",
              "          0,   0],\n",
              "       [  0,   0,   0,   0,   0,   0,   0,   0,   0,   0,   0,   0,   0,\n",
              "          0,   0,   0,   0,   0,   0,   0,   0,   0,   0,   0,   0,   0,\n",
              "          0,   0],\n",
              "       [  0,   0,   0,   0,   0,   0,   0,   0,   0,   0,   0,   0,   0,\n",
              "          0,   0,   0,   0,   0,   0,   0,   0,   0,   0,   0,   0,   0,\n",
              "          0,   0],\n",
              "       [  0,   0,   0,   0,   0,   0,   0,   0,   0,   0,   0,   0,   0,\n",
              "          0,   0,   0,   0,   0,   0,   0,   0,   0,   0,   0,   0,   0,\n",
              "          0,   0],\n",
              "       [  0,   0,   0,   0,   0,   0,   0,   0,   0,   0,   0,   0,   0,\n",
              "          0,   0,   0,   0,   0,   0,   0,   0,   0,   0,   0,   0,   0,\n",
              "          0,   0]], dtype=uint8)"
            ],
            "text/html": [
              "<style>\n",
              "      .ndarray_repr .ndarray_raw_data {\n",
              "        display: none;\n",
              "      }\n",
              "      .ndarray_repr.show_array .ndarray_raw_data {\n",
              "        display: block;\n",
              "      }\n",
              "      .ndarray_repr.show_array .ndarray_image_preview {\n",
              "        display: none;\n",
              "      }\n",
              "      </style>\n",
              "      <div id=\"id-f5fdd71f-3c82-4ad3-9db2-b62d43ee010f\" class=\"ndarray_repr\"><pre>ndarray (28, 28) <button style=\"padding: 0 2px;\">show data</button></pre><img src=\"data:image/png;base64,iVBORw0KGgoAAAANSUhEUgAAABwAAAAcCAAAAABXZoBIAAAA5klEQVR4nGNgoD9gRGJr+aSevsAw4Rc2demf/v379++fE1ZDhF78+/fv3793blhlM778e/Dv379e7A44/+/Sv3//lLBLhpz79+/fP00cbpe4+O/fv9VwLguyXLSeDgMDw1Fs2jSu/fr3D8VOJoSkpiLEmAKsNuZ9+/cPp52TbgswsEzmw+FYBgYGxoZ/t+VxSbL/+3dNBpdk179/JehiwhujGBgYGBgkP2AJviX/rturMBhHnvv3r5sDXdLy6L9/97Z8/Pfv71VuTLt6Mv/9+/fv3783yIIwf5aw8zAYRDJ8xB7TdAQABFdhZWAfWxoAAAAASUVORK5CYII=\" class=\"ndarray_image_preview\" /><pre class=\"ndarray_raw_data\">array([[  0,   0,   0,   0,   0,   0,   0,   0,   0,   0,   0,   0,   0,\n",
              "          0,   0,   0,   0,   0,   0,   0,   0,   0,   0,   0,   0,   0,\n",
              "          0,   0],\n",
              "       [  0,   0,   0,   0,   0,   0,   0,   0,   0,   0,   0,   0,   0,\n",
              "          0,   0,   0,   0,   0,   0,   0,   0,   0,   0,   0,   0,   0,\n",
              "          0,   0],\n",
              "       [  0,   0,   0,   0,   0,   0,   0,   0,   0,   0,   0,   0,   0,\n",
              "          0,   0,   0,   0,   0,   0,   0,   0,   0,   0,   0,   0,   0,\n",
              "          0,   0],\n",
              "       [  0,   0,   0,   0,   0,   0,   0,   0,   0,   0,   0,   0,   0,\n",
              "          0,   0,   0,   0,   0,   0,   0,   0,   0,   0,   0,   0,   0,\n",
              "          0,   0],\n",
              "       [  0,   0,   0,   0,   0,   0,   0,   0,   0,   0,   0,  42, 118,\n",
              "        219, 166, 118, 118,   6,   0,   0,   0,   0,   0,   0,   0,   0,\n",
              "          0,   0],\n",
              "       [  0,   0,   0,   0,   0,   0,   0,   0,   0,   0, 103, 242, 254,\n",
              "        254, 254, 254, 254,  66,   0,   0,   0,   0,   0,   0,   0,   0,\n",
              "          0,   0],\n",
              "       [  0,   0,   0,   0,   0,   0,   0,   0,   0,   0,  18, 232, 254,\n",
              "        254, 254, 254, 254, 238,  70,   0,   0,   0,   0,   0,   0,   0,\n",
              "          0,   0],\n",
              "       [  0,   0,   0,   0,   0,   0,   0,   0,   0,   0,   0, 104, 244,\n",
              "        254, 224, 254, 254, 254, 141,   0,   0,   0,   0,   0,   0,   0,\n",
              "          0,   0],\n",
              "       [  0,   0,   0,   0,   0,   0,   0,   0,   0,   0,   0,   0, 207,\n",
              "        254, 210, 254, 254, 254,  34,   0,   0,   0,   0,   0,   0,   0,\n",
              "          0,   0],\n",
              "       [  0,   0,   0,   0,   0,   0,   0,   0,   0,   0,   0,   0,  84,\n",
              "        206, 254, 254, 254, 254,  41,   0,   0,   0,   0,   0,   0,   0,\n",
              "          0,   0],\n",
              "       [  0,   0,   0,   0,   0,   0,   0,   0,   0,   0,   0,   0,   0,\n",
              "         24, 209, 254, 254, 254, 171,   0,   0,   0,   0,   0,   0,   0,\n",
              "          0,   0],\n",
              "       [  0,   0,   0,   0,   0,   0,   0,   0,   0,   0,   0,   0,  91,\n",
              "        137, 253, 254, 254, 254, 112,   0,   0,   0,   0,   0,   0,   0,\n",
              "          0,   0],\n",
              "       [  0,   0,   0,   0,   0,   0,   0,   0,   0,   0,  40, 214, 250,\n",
              "        254, 254, 254, 254, 254,  34,   0,   0,   0,   0,   0,   0,   0,\n",
              "          0,   0],\n",
              "       [  0,   0,   0,   0,   0,   0,   0,   0,   0,   0,  81, 247, 254,\n",
              "        254, 254, 254, 254, 254, 146,   0,   0,   0,   0,   0,   0,   0,\n",
              "          0,   0],\n",
              "       [  0,   0,   0,   0,   0,   0,   0,   0,   0,   0,   0, 110, 246,\n",
              "        254, 254, 254, 254, 254, 171,   0,   0,   0,   0,   0,   0,   0,\n",
              "          0,   0],\n",
              "       [  0,   0,   0,   0,   0,   0,   0,   0,   0,   0,   0,   0,  73,\n",
              "         89,  89,  93, 240, 254, 171,   0,   0,   0,   0,   0,   0,   0,\n",
              "          0,   0],\n",
              "       [  0,   0,   0,   0,   0,   0,   0,   0,   0,   0,   0,   0,   0,\n",
              "          0,   0,   1, 128, 254, 219,  31,   0,   0,   0,   0,   0,   0,\n",
              "          0,   0],\n",
              "       [  0,   0,   0,   0,   0,   0,   0,   0,   0,   0,   0,   0,   0,\n",
              "          0,   0,   7, 254, 254, 214,  28,   0,   0,   0,   0,   0,   0,\n",
              "          0,   0],\n",
              "       [  0,   0,   0,   0,   0,   0,   0,   0,   0,   0,   0,   0,   0,\n",
              "          0,   0, 138, 254, 254, 116,   0,   0,   0,   0,   0,   0,   0,\n",
              "          0,   0],\n",
              "       [  0,   0,   0,   0,   0,   0,  19, 177,  90,   0,   0,   0,   0,\n",
              "          0,  25, 240, 254, 254,  34,   0,   0,   0,   0,   0,   0,   0,\n",
              "          0,   0],\n",
              "       [  0,   0,   0,   0,   0,   0, 164, 254, 215,  63,  36,   0,  51,\n",
              "         89, 206, 254, 254, 139,   8,   0,   0,   0,   0,   0,   0,   0,\n",
              "          0,   0],\n",
              "       [  0,   0,   0,   0,   0,   0,  57, 197, 254, 254, 222, 180, 241,\n",
              "        254, 254, 253, 213,  11,   0,   0,   0,   0,   0,   0,   0,   0,\n",
              "          0,   0],\n",
              "       [  0,   0,   0,   0,   0,   0,   0, 140, 105, 254, 254, 254, 254,\n",
              "        254, 254, 236,   0,   0,   0,   0,   0,   0,   0,   0,   0,   0,\n",
              "          0,   0],\n",
              "       [  0,   0,   0,   0,   0,   0,   0,   0,   7, 117, 117, 165, 254,\n",
              "        254, 239,  50,   0,   0,   0,   0,   0,   0,   0,   0,   0,   0,\n",
              "          0,   0],\n",
              "       [  0,   0,   0,   0,   0,   0,   0,   0,   0,   0,   0,   0,   0,\n",
              "          0,   0,   0,   0,   0,   0,   0,   0,   0,   0,   0,   0,   0,\n",
              "          0,   0],\n",
              "       [  0,   0,   0,   0,   0,   0,   0,   0,   0,   0,   0,   0,   0,\n",
              "          0,   0,   0,   0,   0,   0,   0,   0,   0,   0,   0,   0,   0,\n",
              "          0,   0],\n",
              "       [  0,   0,   0,   0,   0,   0,   0,   0,   0,   0,   0,   0,   0,\n",
              "          0,   0,   0,   0,   0,   0,   0,   0,   0,   0,   0,   0,   0,\n",
              "          0,   0],\n",
              "       [  0,   0,   0,   0,   0,   0,   0,   0,   0,   0,   0,   0,   0,\n",
              "          0,   0,   0,   0,   0,   0,   0,   0,   0,   0,   0,   0,   0,\n",
              "          0,   0]], dtype=uint8)</pre></div><script>\n",
              "      (() => {\n",
              "      const titles = ['show data', 'hide data'];\n",
              "      let index = 0\n",
              "      document.querySelector('#id-f5fdd71f-3c82-4ad3-9db2-b62d43ee010f button').onclick = (e) => {\n",
              "        document.querySelector('#id-f5fdd71f-3c82-4ad3-9db2-b62d43ee010f').classList.toggle('show_array');\n",
              "        index = (++index) % 2;\n",
              "        document.querySelector('#id-f5fdd71f-3c82-4ad3-9db2-b62d43ee010f button').textContent = titles[index];\n",
              "        e.preventDefault();\n",
              "        e.stopPropagation();\n",
              "      }\n",
              "      })();\n",
              "    </script>"
            ]
          },
          "metadata": {},
          "execution_count": 238
        }
      ]
    },
    {
      "cell_type": "code",
      "source": [
        "X_train[10].shape"
      ],
      "metadata": {
        "colab": {
          "base_uri": "https://localhost:8080/"
        },
        "id": "A-NGH_3a2rlU",
        "outputId": "154c8424-5aae-4a90-aef4-22d446a81b61"
      },
      "execution_count": 239,
      "outputs": [
        {
          "output_type": "execute_result",
          "data": {
            "text/plain": [
              "(28, 28)"
            ]
          },
          "metadata": {},
          "execution_count": 239
        }
      ]
    },
    {
      "cell_type": "code",
      "source": [
        "# displaying the image\n",
        "plt.imshow(X_train[50])\n",
        "plt.show()\n",
        "print(Y_train[50])"
      ],
      "metadata": {
        "colab": {
          "base_uri": "https://localhost:8080/",
          "height": 447
        },
        "id": "YPllMWCB23jC",
        "outputId": "a771e041-1984-4d51-f3d1-e0e637bff3a6"
      },
      "execution_count": 240,
      "outputs": [
        {
          "output_type": "display_data",
          "data": {
            "text/plain": [
              "<Figure size 640x480 with 1 Axes>"
            ],
            "image/png": "[encoded data removed]"
          },
          "metadata": {}
        },
        {
          "output_type": "stream",
          "name": "stdout",
          "text": [
            "3\n"
          ]
        }
      ]
    },
    {
      "cell_type": "code",
      "source": [
        "Y_train.shape"
      ],
      "metadata": {
        "colab": {
          "base_uri": "https://localhost:8080/"
        },
        "id": "Ntnhza5929D3",
        "outputId": "90e32cee-86e2-4cb7-cc2b-266b1371f05f"
      },
      "execution_count": 241,
      "outputs": [
        {
          "output_type": "execute_result",
          "data": {
            "text/plain": [
              "(60000,)"
            ]
          },
          "metadata": {},
          "execution_count": 241
        }
      ]
    },
    {
      "cell_type": "code",
      "source": [
        "print(np.unique(Y_train))\n",
        "print(np.unique(Y_test))"
      ],
      "metadata": {
        "colab": {
          "base_uri": "https://localhost:8080/"
        },
        "id": "gM3NoX3E3Sxr",
        "outputId": "6bf12f39-4e32-4099-d05e-2a2f0000e65a"
      },
      "execution_count": 242,
      "outputs": [
        {
          "output_type": "stream",
          "name": "stdout",
          "text": [
            "[0 1 2 3 4 5 6 7 8 9]\n",
            "[0 1 2 3 4 5 6 7 8 9]\n"
          ]
        }
      ]
    },
    {
      "cell_type": "code",
      "source": [
        "X_train = X_train/255\n",
        "X_test = X_test/255"
      ],
      "metadata": {
        "id": "Xgc95fil3ZNg"
      },
      "execution_count": 243,
      "outputs": []
    },
    {
      "cell_type": "code",
      "source": [
        "X_train[0]"
      ],
      "metadata": {
        "colab": {
          "base_uri": "https://localhost:8080/"
        },
        "id": "W7N1wMlO6nIN",
        "outputId": "75c06463-d04e-4c9e-b87e-4b8fa18402f0"
      },
      "execution_count": 244,
      "outputs": [
        {
          "output_type": "execute_result",
          "data": {
            "text/plain": [
              "array([[0.        , 0.        , 0.        , 0.        , 0.        ,\n",
              "        0.        , 0.        , 0.        , 0.        , 0.        ,\n",
              "        0.        , 0.        , 0.        , 0.        , 0.        ,\n",
              "        0.        , 0.        , 0.        , 0.        , 0.        ,\n",
              "        0.        , 0.        , 0.        , 0.        , 0.        ,\n",
              "        0.        , 0.        , 0.        ],\n",
              "       [0.        , 0.        , 0.        , 0.        , 0.        ,\n",
              "        0.        , 0.        , 0.        , 0.        , 0.        ,\n",
              "        0.        , 0.        , 0.        , 0.        , 0.        ,\n",
              "        0.        , 0.        , 0.        , 0.        , 0.        ,\n",
              "        0.        , 0.        , 0.        , 0.        , 0.        ,\n",
              "        0.        , 0.        , 0.        ],\n",
              "       [0.        , 0.        , 0.        , 0.        , 0.        ,\n",
              "        0.        , 0.        , 0.        , 0.        , 0.        ,\n",
              "        0.        , 0.        , 0.        , 0.        , 0.        ,\n",
              "        0.        , 0.        , 0.        , 0.        , 0.        ,\n",
              "        0.        , 0.        , 0.        , 0.        , 0.        ,\n",
              "        0.        , 0.        , 0.        ],\n",
              "       [0.        , 0.        , 0.        , 0.        , 0.        ,\n",
              "        0.        , 0.        , 0.        , 0.        , 0.        ,\n",
              "        0.        , 0.        , 0.        , 0.        , 0.        ,\n",
              "        0.        , 0.        , 0.        , 0.        , 0.        ,\n",
              "        0.        , 0.        , 0.        , 0.        , 0.        ,\n",
              "        0.        , 0.        , 0.        ],\n",
              "       [0.        , 0.        , 0.        , 0.        , 0.        ,\n",
              "        0.        , 0.        , 0.        , 0.        , 0.        ,\n",
              "        0.        , 0.        , 0.        , 0.        , 0.        ,\n",
              "        0.        , 0.        , 0.        , 0.        , 0.        ,\n",
              "        0.        , 0.        , 0.        , 0.        , 0.        ,\n",
              "        0.        , 0.        , 0.        ],\n",
              "       [0.        , 0.        , 0.        , 0.        , 0.        ,\n",
              "        0.        , 0.        , 0.        , 0.        , 0.        ,\n",
              "        0.        , 0.        , 0.01176471, 0.07058824, 0.07058824,\n",
              "        0.07058824, 0.49411765, 0.53333333, 0.68627451, 0.10196078,\n",
              "        0.65098039, 1.        , 0.96862745, 0.49803922, 0.        ,\n",
              "        0.        , 0.        , 0.        ],\n",
              "       [0.        , 0.        , 0.        , 0.        , 0.        ,\n",
              "        0.        , 0.        , 0.        , 0.11764706, 0.14117647,\n",
              "        0.36862745, 0.60392157, 0.66666667, 0.99215686, 0.99215686,\n",
              "        0.99215686, 0.99215686, 0.99215686, 0.88235294, 0.6745098 ,\n",
              "        0.99215686, 0.94901961, 0.76470588, 0.25098039, 0.        ,\n",
              "        0.        , 0.        , 0.        ],\n",
              "       [0.        , 0.        , 0.        , 0.        , 0.        ,\n",
              "        0.        , 0.        , 0.19215686, 0.93333333, 0.99215686,\n",
              "        0.99215686, 0.99215686, 0.99215686, 0.99215686, 0.99215686,\n",
              "        0.99215686, 0.99215686, 0.98431373, 0.36470588, 0.32156863,\n",
              "        0.32156863, 0.21960784, 0.15294118, 0.        , 0.        ,\n",
              "        0.        , 0.        , 0.        ],\n",
              "       [0.        , 0.        , 0.        , 0.        , 0.        ,\n",
              "        0.        , 0.        , 0.07058824, 0.85882353, 0.99215686,\n",
              "        0.99215686, 0.99215686, 0.99215686, 0.99215686, 0.77647059,\n",
              "        0.71372549, 0.96862745, 0.94509804, 0.        , 0.        ,\n",
              "        0.        , 0.        , 0.        , 0.        , 0.        ,\n",
              "        0.        , 0.        , 0.        ],\n",
              "       [0.        , 0.        , 0.        , 0.        , 0.        ,\n",
              "        0.        , 0.        , 0.        , 0.31372549, 0.61176471,\n",
              "        0.41960784, 0.99215686, 0.99215686, 0.80392157, 0.04313725,\n",
              "        0.        , 0.16862745, 0.60392157, 0.        , 0.        ,\n",
              "        0.        , 0.        , 0.        , 0.        , 0.        ,\n",
              "        0.        , 0.        , 0.        ],\n",
              "       [0.        , 0.        , 0.        , 0.        , 0.        ,\n",
              "        0.        , 0.        , 0.        , 0.        , 0.05490196,\n",
              "        0.00392157, 0.60392157, 0.99215686, 0.35294118, 0.        ,\n",
              "        0.        , 0.        , 0.        , 0.        , 0.        ,\n",
              "        0.        , 0.        , 0.        , 0.        , 0.        ,\n",
              "        0.        , 0.        , 0.        ],\n",
              "       [0.        , 0.        , 0.        , 0.        , 0.        ,\n",
              "        0.        , 0.        , 0.        , 0.        , 0.        ,\n",
              "        0.        , 0.54509804, 0.99215686, 0.74509804, 0.00784314,\n",
              "        0.        , 0.        , 0.        , 0.        , 0.        ,\n",
              "        0.        , 0.        , 0.        , 0.        , 0.        ,\n",
              "        0.        , 0.        , 0.        ],\n",
              "       [0.        , 0.        , 0.        , 0.        , 0.        ,\n",
              "        0.        , 0.        , 0.        , 0.        , 0.        ,\n",
              "        0.        , 0.04313725, 0.74509804, 0.99215686, 0.2745098 ,\n",
              "        0.        , 0.        , 0.        , 0.        , 0.        ,\n",
              "        0.        , 0.        , 0.        , 0.        , 0.        ,\n",
              "        0.        , 0.        , 0.        ],\n",
              "       [0.        , 0.        , 0.        , 0.        , 0.        ,\n",
              "        0.        , 0.        , 0.        , 0.        , 0.        ,\n",
              "        0.        , 0.        , 0.1372549 , 0.94509804, 0.88235294,\n",
              "        0.62745098, 0.42352941, 0.00392157, 0.        , 0.        ,\n",
              "        0.        , 0.        , 0.        , 0.        , 0.        ,\n",
              "        0.        , 0.        , 0.        ],\n",
              "       [0.        , 0.        , 0.        , 0.        , 0.        ,\n",
              "        0.        , 0.        , 0.        , 0.        , 0.        ,\n",
              "        0.        , 0.        , 0.        , 0.31764706, 0.94117647,\n",
              "        0.99215686, 0.99215686, 0.46666667, 0.09803922, 0.        ,\n",
              "        0.        , 0.        , 0.        , 0.        , 0.        ,\n",
              "        0.        , 0.        , 0.        ],\n",
              "       [0.        , 0.        , 0.        , 0.        , 0.        ,\n",
              "        0.        , 0.        , 0.        , 0.        , 0.        ,\n",
              "        0.        , 0.        , 0.        , 0.        , 0.17647059,\n",
              "        0.72941176, 0.99215686, 0.99215686, 0.58823529, 0.10588235,\n",
              "        0.        , 0.        , 0.        , 0.        , 0.        ,\n",
              "        0.        , 0.        , 0.        ],\n",
              "       [0.        , 0.        , 0.        , 0.        , 0.        ,\n",
              "        0.        , 0.        , 0.        , 0.        , 0.        ,\n",
              "        0.        , 0.        , 0.        , 0.        , 0.        ,\n",
              "        0.0627451 , 0.36470588, 0.98823529, 0.99215686, 0.73333333,\n",
              "        0.        , 0.        , 0.        , 0.        , 0.        ,\n",
              "        0.        , 0.        , 0.        ],\n",
              "       [0.        , 0.        , 0.        , 0.        , 0.        ,\n",
              "        0.        , 0.        , 0.        , 0.        , 0.        ,\n",
              "        0.        , 0.        , 0.        , 0.        , 0.        ,\n",
              "        0.        , 0.        , 0.97647059, 0.99215686, 0.97647059,\n",
              "        0.25098039, 0.        , 0.        , 0.        , 0.        ,\n",
              "        0.        , 0.        , 0.        ],\n",
              "       [0.        , 0.        , 0.        , 0.        , 0.        ,\n",
              "        0.        , 0.        , 0.        , 0.        , 0.        ,\n",
              "        0.        , 0.        , 0.        , 0.        , 0.18039216,\n",
              "        0.50980392, 0.71764706, 0.99215686, 0.99215686, 0.81176471,\n",
              "        0.00784314, 0.        , 0.        , 0.        , 0.        ,\n",
              "        0.        , 0.        , 0.        ],\n",
              "       [0.        , 0.        , 0.        , 0.        , 0.        ,\n",
              "        0.        , 0.        , 0.        , 0.        , 0.        ,\n",
              "        0.        , 0.        , 0.15294118, 0.58039216, 0.89803922,\n",
              "        0.99215686, 0.99215686, 0.99215686, 0.98039216, 0.71372549,\n",
              "        0.        , 0.        , 0.        , 0.        , 0.        ,\n",
              "        0.        , 0.        , 0.        ],\n",
              "       [0.        , 0.        , 0.        , 0.        , 0.        ,\n",
              "        0.        , 0.        , 0.        , 0.        , 0.        ,\n",
              "        0.09411765, 0.44705882, 0.86666667, 0.99215686, 0.99215686,\n",
              "        0.99215686, 0.99215686, 0.78823529, 0.30588235, 0.        ,\n",
              "        0.        , 0.        , 0.        , 0.        , 0.        ,\n",
              "        0.        , 0.        , 0.        ],\n",
              "       [0.        , 0.        , 0.        , 0.        , 0.        ,\n",
              "        0.        , 0.        , 0.        , 0.09019608, 0.25882353,\n",
              "        0.83529412, 0.99215686, 0.99215686, 0.99215686, 0.99215686,\n",
              "        0.77647059, 0.31764706, 0.00784314, 0.        , 0.        ,\n",
              "        0.        , 0.        , 0.        , 0.        , 0.        ,\n",
              "        0.        , 0.        , 0.        ],\n",
              "       [0.        , 0.        , 0.        , 0.        , 0.        ,\n",
              "        0.        , 0.07058824, 0.67058824, 0.85882353, 0.99215686,\n",
              "        0.99215686, 0.99215686, 0.99215686, 0.76470588, 0.31372549,\n",
              "        0.03529412, 0.        , 0.        , 0.        , 0.        ,\n",
              "        0.        , 0.        , 0.        , 0.        , 0.        ,\n",
              "        0.        , 0.        , 0.        ],\n",
              "       [0.        , 0.        , 0.        , 0.        , 0.21568627,\n",
              "        0.6745098 , 0.88627451, 0.99215686, 0.99215686, 0.99215686,\n",
              "        0.99215686, 0.95686275, 0.52156863, 0.04313725, 0.        ,\n",
              "        0.        , 0.        , 0.        , 0.        , 0.        ,\n",
              "        0.        , 0.        , 0.        , 0.        , 0.        ,\n",
              "        0.        , 0.        , 0.        ],\n",
              "       [0.        , 0.        , 0.        , 0.        , 0.53333333,\n",
              "        0.99215686, 0.99215686, 0.99215686, 0.83137255, 0.52941176,\n",
              "        0.51764706, 0.0627451 , 0.        , 0.        , 0.        ,\n",
              "        0.        , 0.        , 0.        , 0.        , 0.        ,\n",
              "        0.        , 0.        , 0.        , 0.        , 0.        ,\n",
              "        0.        , 0.        , 0.        ],\n",
              "       [0.        , 0.        , 0.        , 0.        , 0.        ,\n",
              "        0.        , 0.        , 0.        , 0.        , 0.        ,\n",
              "        0.        , 0.        , 0.        , 0.        , 0.        ,\n",
              "        0.        , 0.        , 0.        , 0.        , 0.        ,\n",
              "        0.        , 0.        , 0.        , 0.        , 0.        ,\n",
              "        0.        , 0.        , 0.        ],\n",
              "       [0.        , 0.        , 0.        , 0.        , 0.        ,\n",
              "        0.        , 0.        , 0.        , 0.        , 0.        ,\n",
              "        0.        , 0.        , 0.        , 0.        , 0.        ,\n",
              "        0.        , 0.        , 0.        , 0.        , 0.        ,\n",
              "        0.        , 0.        , 0.        , 0.        , 0.        ,\n",
              "        0.        , 0.        , 0.        ],\n",
              "       [0.        , 0.        , 0.        , 0.        , 0.        ,\n",
              "        0.        , 0.        , 0.        , 0.        , 0.        ,\n",
              "        0.        , 0.        , 0.        , 0.        , 0.        ,\n",
              "        0.        , 0.        , 0.        , 0.        , 0.        ,\n",
              "        0.        , 0.        , 0.        , 0.        , 0.        ,\n",
              "        0.        , 0.        , 0.        ]])"
            ]
          },
          "metadata": {},
          "execution_count": 244
        }
      ]
    },
    {
      "cell_type": "code",
      "source": [
        "model  = keras.Sequential([\n",
        "    keras.layers.Flatten(input_shape=(28,28)),\n",
        "    keras.layers.Dense(50,activation='relu'),\n",
        "    keras.layers.Dense(30,activation='relu'),\n",
        "    keras.layers.Dense(50,activation='relu'),\n",
        "    keras.layers.Dense(10,activation='sigmoid')\n",
        "])"
      ],
      "metadata": {
        "id": "zxC7WBKM6omN"
      },
      "execution_count": 245,
      "outputs": []
    },
    {
      "cell_type": "code",
      "source": [
        "model.compile(optimizer='adam',\n",
        "              loss='sparse_categorical_crossentropy',\n",
        "              metrics=['accuracy'])"
      ],
      "metadata": {
        "id": "q8TUcl5v7rV-"
      },
      "execution_count": 246,
      "outputs": []
    },
    {
      "cell_type": "code",
      "source": [
        "model.fit(X_train,Y_train,validation_split=0.2,epochs=10)"
      ],
      "metadata": {
        "colab": {
          "base_uri": "https://localhost:8080/"
        },
        "id": "LkBaxJ1C8F4V",
        "outputId": "73f53541-c157-4e50-8b18-d7d2b0ba028c"
      },
      "execution_count": 247,
      "outputs": [
        {
          "output_type": "stream",
          "name": "stdout",
          "text": [
            "Epoch 1/10\n",
            "1500/1500 [==============================] - 8s 4ms/step - loss: 0.3583 - accuracy: 0.8935 - val_loss: 0.2004 - val_accuracy: 0.9410\n",
            "Epoch 2/10\n",
            "1500/1500 [==============================] - 4s 3ms/step - loss: 0.1617 - accuracy: 0.9526 - val_loss: 0.1540 - val_accuracy: 0.9562\n",
            "Epoch 3/10\n",
            "1500/1500 [==============================] - 4s 2ms/step - loss: 0.1194 - accuracy: 0.9638 - val_loss: 0.1333 - val_accuracy: 0.9612\n",
            "Epoch 4/10\n",
            "1500/1500 [==============================] - 5s 3ms/step - loss: 0.0974 - accuracy: 0.9702 - val_loss: 0.1374 - val_accuracy: 0.9601\n",
            "Epoch 5/10\n",
            "1500/1500 [==============================] - 3s 2ms/step - loss: 0.0809 - accuracy: 0.9752 - val_loss: 0.1332 - val_accuracy: 0.9601\n",
            "Epoch 6/10\n",
            "1500/1500 [==============================] - 4s 2ms/step - loss: 0.0693 - accuracy: 0.9784 - val_loss: 0.1284 - val_accuracy: 0.9656\n",
            "Epoch 7/10\n",
            "1500/1500 [==============================] - 4s 2ms/step - loss: 0.0614 - accuracy: 0.9803 - val_loss: 0.1185 - val_accuracy: 0.9663\n",
            "Epoch 8/10\n",
            "1500/1500 [==============================] - 4s 3ms/step - loss: 0.0532 - accuracy: 0.9830 - val_loss: 0.1227 - val_accuracy: 0.9663\n",
            "Epoch 9/10\n",
            "1500/1500 [==============================] - 3s 2ms/step - loss: 0.0497 - accuracy: 0.9840 - val_loss: 0.1281 - val_accuracy: 0.9687\n",
            "Epoch 10/10\n",
            "1500/1500 [==============================] - 3s 2ms/step - loss: 0.0447 - accuracy: 0.9852 - val_loss: 0.1291 - val_accuracy: 0.9673\n"
          ]
        },
        {
          "output_type": "execute_result",
          "data": {
            "text/plain": [
              "<keras.src.callbacks.History at 0x7b08fe7209d0>"
            ]
          },
          "metadata": {},
          "execution_count": 247
        }
      ]
    },
    {
      "cell_type": "code",
      "source": [
        "loss,accuracy = model.evaluate(X_test,Y_test)"
      ],
      "metadata": {
        "colab": {
          "base_uri": "https://localhost:8080/"
        },
        "id": "b31_xW_h8mIu",
        "outputId": "ef1d4ebe-31d2-4828-8d67-245630c4f789"
      },
      "execution_count": 248,
      "outputs": [
        {
          "output_type": "stream",
          "name": "stdout",
          "text": [
            "313/313 [==============================] - 1s 1ms/step - loss: 0.1220 - accuracy: 0.9670\n"
          ]
        }
      ]
    },
    {
      "cell_type": "code",
      "source": [
        "accuracy"
      ],
      "metadata": {
        "colab": {
          "base_uri": "https://localhost:8080/"
        },
        "id": "aeDGWycU9Nmx",
        "outputId": "b3b6b8c4-56cf-4ae7-fa44-aceeeee65e8b"
      },
      "execution_count": 249,
      "outputs": [
        {
          "output_type": "execute_result",
          "data": {
            "text/plain": [
              "0.9670000076293945"
            ]
          },
          "metadata": {},
          "execution_count": 249
        }
      ]
    },
    {
      "cell_type": "code",
      "source": [
        "X_test.shape"
      ],
      "metadata": {
        "colab": {
          "base_uri": "https://localhost:8080/"
        },
        "id": "eHf_-NWS9RFj",
        "outputId": "bd678d34-2bca-43b9-a749-ec2a943b1aac"
      },
      "execution_count": 250,
      "outputs": [
        {
          "output_type": "execute_result",
          "data": {
            "text/plain": [
              "(10000, 28, 28)"
            ]
          },
          "metadata": {},
          "execution_count": 250
        }
      ]
    },
    {
      "cell_type": "code",
      "source": [
        "plt.imshow(X_test[0])\n",
        "print(Y_test[0])"
      ],
      "metadata": {
        "colab": {
          "base_uri": "https://localhost:8080/",
          "height": 447
        },
        "id": "EOn1wii_9aO8",
        "outputId": "c71fc216-03b0-43e4-9a9a-a90fa4522e22"
      },
      "execution_count": 251,
      "outputs": [
        {
          "output_type": "stream",
          "name": "stdout",
          "text": [
            "7\n"
          ]
        },
        {
          "output_type": "display_data",
          "data": {
            "text/plain": [
              "<Figure size 640x480 with 1 Axes>"
            ],
            "image/png": "[encoded data removed]"
          },
          "metadata": {}
        }
      ]
    },
    {
      "cell_type": "code",
      "source": [
        "Y_pred = model.predict(X_test)"
      ],
      "metadata": {
        "colab": {
          "base_uri": "https://localhost:8080/"
        },
        "id": "PxJHB6dY9g-E",
        "outputId": "ea1a135f-93f2-4af2-c3f1-1d1e85bcff95"
      },
      "execution_count": 252,
      "outputs": [
        {
          "output_type": "stream",
          "name": "stdout",
          "text": [
            "313/313 [==============================] - 1s 1ms/step\n"
          ]
        }
      ]
    },
    {
      "cell_type": "code",
      "source": [
        "Y_pred.shape"
      ],
      "metadata": {
        "colab": {
          "base_uri": "https://localhost:8080/"
        },
        "id": "9wOc69Jt9uWm",
        "outputId": "ea2b5f8f-f8c5-468e-91a0-afd02c228fbe"
      },
      "execution_count": 253,
      "outputs": [
        {
          "output_type": "execute_result",
          "data": {
            "text/plain": [
              "(10000, 10)"
            ]
          },
          "metadata": {},
          "execution_count": 253
        }
      ]
    },
    {
      "cell_type": "code",
      "source": [
        "Y_pred[0]"
      ],
      "metadata": {
        "colab": {
          "base_uri": "https://localhost:8080/"
        },
        "id": "iMeJ8BrX98RI",
        "outputId": "22a55c82-ffc9-4808-d4b0-7ad870928cee"
      },
      "execution_count": 254,
      "outputs": [
        {
          "output_type": "execute_result",
          "data": {
            "text/plain": [
              "array([9.8429337e-05, 4.7803945e-03, 5.0161415e-01, 9.8745334e-01,\n",
              "       1.3525448e-07, 2.8706499e-04, 2.3265329e-08, 9.9999958e-01,\n",
              "       1.0401723e-03, 2.1325588e-01], dtype=float32)"
            ]
          },
          "metadata": {},
          "execution_count": 254
        }
      ]
    },
    {
      "cell_type": "code",
      "source": [
        "np.argmax(Y_pred[0])"
      ],
      "metadata": {
        "colab": {
          "base_uri": "https://localhost:8080/"
        },
        "id": "VJbQwr5H-uMf",
        "outputId": "3724d7ce-31bb-43f6-b947-3ee5938e0210"
      },
      "execution_count": 255,
      "outputs": [
        {
          "output_type": "execute_result",
          "data": {
            "text/plain": [
              "7"
            ]
          },
          "metadata": {},
          "execution_count": 255
        }
      ]
    },
    {
      "cell_type": "code",
      "source": [
        "Y_pred_lables = [np.argmax(i) for i in Y_pred]\n",
        "Y_pred_lables"
      ],
      "metadata": {
        "colab": {
          "base_uri": "https://localhost:8080/"
        },
        "id": "9imw6FBP-w8S",
        "outputId": "8defc22e-1b8c-4077-da56-8f779d622dbf"
      },
      "execution_count": 256,
      "outputs": [
        {
          "output_type": "execute_result",
          "data": {
            "text/plain": [
              "[7,\n",
              " 2,\n",
              " 1,\n",
              " 0,\n",
              " 4,\n",
              " 1,\n",
              " 4,\n",
              " 9,\n",
              " 5,\n",
              " 9,\n",
              " 0,\n",
              " 6,\n",
              " 9,\n",
              " 0,\n",
              " 1,\n",
              " 5,\n",
              " 9,\n",
              " 7,\n",
              " 3,\n",
              " 4,\n",
              " 7,\n",
              " 6,\n",
              " 6,\n",
              " 5,\n",
              " 4,\n",
              " 0,\n",
              " 7,\n",
              " 4,\n",
              " 0,\n",
              " 1,\n",
              " 3,\n",
              " 1,\n",
              " 3,\n",
              " 4,\n",
              " 7,\n",
              " 2,\n",
              " 7,\n",
              " 1,\n",
              " 2,\n",
              " 1,\n",
              " 1,\n",
              " 7,\n",
              " 4,\n",
              " 2,\n",
              " 3,\n",
              " 5,\n",
              " 1,\n",
              " 2,\n",
              " 4,\n",
              " 4,\n",
              " 6,\n",
              " 3,\n",
              " 5,\n",
              " 5,\n",
              " 6,\n",
              " 0,\n",
              " 4,\n",
              " 1,\n",
              " 9,\n",
              " 5,\n",
              " 7,\n",
              " 8,\n",
              " 9,\n",
              " 3,\n",
              " 7,\n",
              " 4,\n",
              " 6,\n",
              " 4,\n",
              " 3,\n",
              " 0,\n",
              " 7,\n",
              " 0,\n",
              " 2,\n",
              " 9,\n",
              " 1,\n",
              " 7,\n",
              " 3,\n",
              " 2,\n",
              " 9,\n",
              " 7,\n",
              " 7,\n",
              " 6,\n",
              " 2,\n",
              " 7,\n",
              " 8,\n",
              " 4,\n",
              " 7,\n",
              " 3,\n",
              " 6,\n",
              " 1,\n",
              " 3,\n",
              " 6,\n",
              " 9,\n",
              " 3,\n",
              " 1,\n",
              " 4,\n",
              " 1,\n",
              " 7,\n",
              " 6,\n",
              " 9,\n",
              " 6,\n",
              " 0,\n",
              " 5,\n",
              " 4,\n",
              " 9,\n",
              " 9,\n",
              " 2,\n",
              " 1,\n",
              " 9,\n",
              " 4,\n",
              " 8,\n",
              " 7,\n",
              " 3,\n",
              " 9,\n",
              " 7,\n",
              " 4,\n",
              " 4,\n",
              " 4,\n",
              " 9,\n",
              " 2,\n",
              " 5,\n",
              " 4,\n",
              " 7,\n",
              " 6,\n",
              " 7,\n",
              " 9,\n",
              " 0,\n",
              " 5,\n",
              " 8,\n",
              " 5,\n",
              " 6,\n",
              " 6,\n",
              " 5,\n",
              " 7,\n",
              " 8,\n",
              " 1,\n",
              " 0,\n",
              " 1,\n",
              " 6,\n",
              " 4,\n",
              " 6,\n",
              " 7,\n",
              " 3,\n",
              " 1,\n",
              " 7,\n",
              " 1,\n",
              " 8,\n",
              " 2,\n",
              " 0,\n",
              " 2,\n",
              " 9,\n",
              " 9,\n",
              " 5,\n",
              " 5,\n",
              " 1,\n",
              " 5,\n",
              " 6,\n",
              " 0,\n",
              " 3,\n",
              " 4,\n",
              " 4,\n",
              " 6,\n",
              " 5,\n",
              " 4,\n",
              " 6,\n",
              " 5,\n",
              " 4,\n",
              " 5,\n",
              " 1,\n",
              " 4,\n",
              " 4,\n",
              " 7,\n",
              " 2,\n",
              " 3,\n",
              " 2,\n",
              " 7,\n",
              " 1,\n",
              " 8,\n",
              " 1,\n",
              " 8,\n",
              " 1,\n",
              " 8,\n",
              " 5,\n",
              " 0,\n",
              " 8,\n",
              " 9,\n",
              " 2,\n",
              " 5,\n",
              " 0,\n",
              " 1,\n",
              " 1,\n",
              " 1,\n",
              " 0,\n",
              " 9,\n",
              " 0,\n",
              " 3,\n",
              " 1,\n",
              " 6,\n",
              " 4,\n",
              " 2,\n",
              " 3,\n",
              " 6,\n",
              " 1,\n",
              " 1,\n",
              " 1,\n",
              " 3,\n",
              " 9,\n",
              " 5,\n",
              " 2,\n",
              " 9,\n",
              " 4,\n",
              " 5,\n",
              " 9,\n",
              " 3,\n",
              " 9,\n",
              " 0,\n",
              " 3,\n",
              " 6,\n",
              " 5,\n",
              " 5,\n",
              " 7,\n",
              " 2,\n",
              " 2,\n",
              " 7,\n",
              " 1,\n",
              " 2,\n",
              " 8,\n",
              " 4,\n",
              " 1,\n",
              " 7,\n",
              " 3,\n",
              " 3,\n",
              " 8,\n",
              " 8,\n",
              " 7,\n",
              " 9,\n",
              " 2,\n",
              " 2,\n",
              " 4,\n",
              " 1,\n",
              " 5,\n",
              " 8,\n",
              " 8,\n",
              " 7,\n",
              " 2,\n",
              " 3,\n",
              " 0,\n",
              " 6,\n",
              " 4,\n",
              " 2,\n",
              " 4,\n",
              " 1,\n",
              " 9,\n",
              " 5,\n",
              " 7,\n",
              " 7,\n",
              " 2,\n",
              " 8,\n",
              " 2,\n",
              " 6,\n",
              " 8,\n",
              " 5,\n",
              " 7,\n",
              " 7,\n",
              " 9,\n",
              " 1,\n",
              " 8,\n",
              " 1,\n",
              " 8,\n",
              " 0,\n",
              " 3,\n",
              " 0,\n",
              " 1,\n",
              " 9,\n",
              " 9,\n",
              " 4,\n",
              " 1,\n",
              " 8,\n",
              " 2,\n",
              " 1,\n",
              " 2,\n",
              " 9,\n",
              " 7,\n",
              " 5,\n",
              " 9,\n",
              " 2,\n",
              " 6,\n",
              " 4,\n",
              " 1,\n",
              " 5,\n",
              " 8,\n",
              " 2,\n",
              " 9,\n",
              " 2,\n",
              " 0,\n",
              " 4,\n",
              " 0,\n",
              " 0,\n",
              " 2,\n",
              " 8,\n",
              " 4,\n",
              " 7,\n",
              " 1,\n",
              " 2,\n",
              " 4,\n",
              " 0,\n",
              " 2,\n",
              " 7,\n",
              " 4,\n",
              " 3,\n",
              " 3,\n",
              " 0,\n",
              " 0,\n",
              " 3,\n",
              " 1,\n",
              " 9,\n",
              " 6,\n",
              " 5,\n",
              " 2,\n",
              " 5,\n",
              " 8,\n",
              " 7,\n",
              " 9,\n",
              " 3,\n",
              " 0,\n",
              " 4,\n",
              " 2,\n",
              " 0,\n",
              " 7,\n",
              " 1,\n",
              " 1,\n",
              " 2,\n",
              " 1,\n",
              " 5,\n",
              " 3,\n",
              " 3,\n",
              " 9,\n",
              " 7,\n",
              " 8,\n",
              " 6,\n",
              " 5,\n",
              " 6,\n",
              " 1,\n",
              " 3,\n",
              " 8,\n",
              " 1,\n",
              " 0,\n",
              " 5,\n",
              " 1,\n",
              " 3,\n",
              " 1,\n",
              " 5,\n",
              " 5,\n",
              " 6,\n",
              " 1,\n",
              " 8,\n",
              " 5,\n",
              " 1,\n",
              " 7,\n",
              " 9,\n",
              " 4,\n",
              " 6,\n",
              " 2,\n",
              " 2,\n",
              " 5,\n",
              " 0,\n",
              " 6,\n",
              " 5,\n",
              " 6,\n",
              " 3,\n",
              " 7,\n",
              " 2,\n",
              " 0,\n",
              " 8,\n",
              " 8,\n",
              " 5,\n",
              " 4,\n",
              " 1,\n",
              " 1,\n",
              " 4,\n",
              " 0,\n",
              " 7,\n",
              " 3,\n",
              " 7,\n",
              " 6,\n",
              " 1,\n",
              " 6,\n",
              " 2,\n",
              " 1,\n",
              " 9,\n",
              " 2,\n",
              " 8,\n",
              " 6,\n",
              " 1,\n",
              " 9,\n",
              " 5,\n",
              " 2,\n",
              " 5,\n",
              " 4,\n",
              " 4,\n",
              " 2,\n",
              " 8,\n",
              " 3,\n",
              " 8,\n",
              " 2,\n",
              " 4,\n",
              " 5,\n",
              " 0,\n",
              " 3,\n",
              " 1,\n",
              " 7,\n",
              " 7,\n",
              " 5,\n",
              " 7,\n",
              " 9,\n",
              " 7,\n",
              " 1,\n",
              " 9,\n",
              " 2,\n",
              " 1,\n",
              " 4,\n",
              " 2,\n",
              " 9,\n",
              " 2,\n",
              " 0,\n",
              " 4,\n",
              " 9,\n",
              " 1,\n",
              " 4,\n",
              " 8,\n",
              " 1,\n",
              " 8,\n",
              " 4,\n",
              " 5,\n",
              " 9,\n",
              " 8,\n",
              " 8,\n",
              " 3,\n",
              " 7,\n",
              " 6,\n",
              " 0,\n",
              " 0,\n",
              " 3,\n",
              " 0,\n",
              " 2,\n",
              " 0,\n",
              " 6,\n",
              " 9,\n",
              " 9,\n",
              " 3,\n",
              " 3,\n",
              " 3,\n",
              " 2,\n",
              " 3,\n",
              " 9,\n",
              " 1,\n",
              " 2,\n",
              " 6,\n",
              " 8,\n",
              " 0,\n",
              " 5,\n",
              " 6,\n",
              " 6,\n",
              " 6,\n",
              " 3,\n",
              " 8,\n",
              " 8,\n",
              " 2,\n",
              " 7,\n",
              " 5,\n",
              " 8,\n",
              " 9,\n",
              " 6,\n",
              " 1,\n",
              " 8,\n",
              " 4,\n",
              " 1,\n",
              " 2,\n",
              " 5,\n",
              " 9,\n",
              " 1,\n",
              " 9,\n",
              " 7,\n",
              " 5,\n",
              " 4,\n",
              " 0,\n",
              " 8,\n",
              " 9,\n",
              " 9,\n",
              " 1,\n",
              " 0,\n",
              " 5,\n",
              " 2,\n",
              " 3,\n",
              " 7,\n",
              " 0,\n",
              " 9,\n",
              " 8,\n",
              " 0,\n",
              " 6,\n",
              " 3,\n",
              " 9,\n",
              " 5,\n",
              " 2,\n",
              " 1,\n",
              " 3,\n",
              " 1,\n",
              " 3,\n",
              " 6,\n",
              " 5,\n",
              " 7,\n",
              " 4,\n",
              " 2,\n",
              " 2,\n",
              " 6,\n",
              " 3,\n",
              " 2,\n",
              " 6,\n",
              " 5,\n",
              " 4,\n",
              " 8,\n",
              " 9,\n",
              " 7,\n",
              " 1,\n",
              " 3,\n",
              " 0,\n",
              " 3,\n",
              " 8,\n",
              " 3,\n",
              " 1,\n",
              " 9,\n",
              " 3,\n",
              " 4,\n",
              " 4,\n",
              " 6,\n",
              " 4,\n",
              " 2,\n",
              " 1,\n",
              " 8,\n",
              " 2,\n",
              " 5,\n",
              " 4,\n",
              " 8,\n",
              " 8,\n",
              " 4,\n",
              " 9,\n",
              " 0,\n",
              " 2,\n",
              " 3,\n",
              " 2,\n",
              " 7,\n",
              " 7,\n",
              " 0,\n",
              " 8,\n",
              " 7,\n",
              " 4,\n",
              " 4,\n",
              " 7,\n",
              " 9,\n",
              " 6,\n",
              " 9,\n",
              " 0,\n",
              " 9,\n",
              " 8,\n",
              " 0,\n",
              " 4,\n",
              " 6,\n",
              " 0,\n",
              " 6,\n",
              " 3,\n",
              " 5,\n",
              " 4,\n",
              " 8,\n",
              " 3,\n",
              " 3,\n",
              " 9,\n",
              " 3,\n",
              " 3,\n",
              " 3,\n",
              " 7,\n",
              " 8,\n",
              " 0,\n",
              " 2,\n",
              " 2,\n",
              " 1,\n",
              " 7,\n",
              " 0,\n",
              " 6,\n",
              " 5,\n",
              " 4,\n",
              " 3,\n",
              " 8,\n",
              " 0,\n",
              " 9,\n",
              " 6,\n",
              " 3,\n",
              " 8,\n",
              " 0,\n",
              " 9,\n",
              " 9,\n",
              " 6,\n",
              " 8,\n",
              " 6,\n",
              " 8,\n",
              " 5,\n",
              " 7,\n",
              " 8,\n",
              " 6,\n",
              " 0,\n",
              " 2,\n",
              " 4,\n",
              " 0,\n",
              " 2,\n",
              " 2,\n",
              " 3,\n",
              " 1,\n",
              " 9,\n",
              " 7,\n",
              " 5,\n",
              " 8,\n",
              " 0,\n",
              " 8,\n",
              " 4,\n",
              " 6,\n",
              " 2,\n",
              " 6,\n",
              " 7,\n",
              " 9,\n",
              " 3,\n",
              " 2,\n",
              " 9,\n",
              " 8,\n",
              " 2,\n",
              " 2,\n",
              " 9,\n",
              " 2,\n",
              " 7,\n",
              " 3,\n",
              " 5,\n",
              " 9,\n",
              " 1,\n",
              " 8,\n",
              " 0,\n",
              " 2,\n",
              " 0,\n",
              " 5,\n",
              " 2,\n",
              " 1,\n",
              " 3,\n",
              " 7,\n",
              " 6,\n",
              " 7,\n",
              " 1,\n",
              " 2,\n",
              " 5,\n",
              " 8,\n",
              " 0,\n",
              " 3,\n",
              " 7,\n",
              " 2,\n",
              " 4,\n",
              " 0,\n",
              " 9,\n",
              " 1,\n",
              " 8,\n",
              " 6,\n",
              " 7,\n",
              " 7,\n",
              " 4,\n",
              " 3,\n",
              " 4,\n",
              " 9,\n",
              " 1,\n",
              " 9,\n",
              " 5,\n",
              " 1,\n",
              " 7,\n",
              " 3,\n",
              " 9,\n",
              " 7,\n",
              " 6,\n",
              " 9,\n",
              " 1,\n",
              " 3,\n",
              " 7,\n",
              " 8,\n",
              " 3,\n",
              " 3,\n",
              " 6,\n",
              " 7,\n",
              " 2,\n",
              " 4,\n",
              " 5,\n",
              " 8,\n",
              " 5,\n",
              " 1,\n",
              " 1,\n",
              " 4,\n",
              " 4,\n",
              " 3,\n",
              " 1,\n",
              " 0,\n",
              " 7,\n",
              " 7,\n",
              " 0,\n",
              " 7,\n",
              " 9,\n",
              " 9,\n",
              " 4,\n",
              " 8,\n",
              " 5,\n",
              " 5,\n",
              " 4,\n",
              " 0,\n",
              " 8,\n",
              " 2,\n",
              " 1,\n",
              " 0,\n",
              " 8,\n",
              " 4,\n",
              " 8,\n",
              " 0,\n",
              " 4,\n",
              " 0,\n",
              " 6,\n",
              " 1,\n",
              " 9,\n",
              " 3,\n",
              " 2,\n",
              " 6,\n",
              " 7,\n",
              " 2,\n",
              " 6,\n",
              " 9,\n",
              " 3,\n",
              " 1,\n",
              " 4,\n",
              " 6,\n",
              " 2,\n",
              " 5,\n",
              " 9,\n",
              " 2,\n",
              " 0,\n",
              " 6,\n",
              " 2,\n",
              " 1,\n",
              " 7,\n",
              " 3,\n",
              " 4,\n",
              " 1,\n",
              " 0,\n",
              " 5,\n",
              " 4,\n",
              " 3,\n",
              " 1,\n",
              " 1,\n",
              " 7,\n",
              " 4,\n",
              " 9,\n",
              " 9,\n",
              " 4,\n",
              " 8,\n",
              " 4,\n",
              " 0,\n",
              " 2,\n",
              " 4,\n",
              " 5,\n",
              " 1,\n",
              " 1,\n",
              " 6,\n",
              " 4,\n",
              " 7,\n",
              " 1,\n",
              " 9,\n",
              " 4,\n",
              " 2,\n",
              " 4,\n",
              " 1,\n",
              " 5,\n",
              " 5,\n",
              " 3,\n",
              " 8,\n",
              " 3,\n",
              " 1,\n",
              " 4,\n",
              " 5,\n",
              " 6,\n",
              " 8,\n",
              " 9,\n",
              " 4,\n",
              " 1,\n",
              " 5,\n",
              " 3,\n",
              " 8,\n",
              " 0,\n",
              " 3,\n",
              " 2,\n",
              " 5,\n",
              " 1,\n",
              " 2,\n",
              " 8,\n",
              " 3,\n",
              " 4,\n",
              " 4,\n",
              " 0,\n",
              " 8,\n",
              " 8,\n",
              " 3,\n",
              " 3,\n",
              " 1,\n",
              " 2,\n",
              " 3,\n",
              " 5,\n",
              " 8,\n",
              " 6,\n",
              " 3,\n",
              " 2,\n",
              " 6,\n",
              " 1,\n",
              " 3,\n",
              " 6,\n",
              " 0,\n",
              " 7,\n",
              " 2,\n",
              " 1,\n",
              " 7,\n",
              " 1,\n",
              " 4,\n",
              " 2,\n",
              " 4,\n",
              " 2,\n",
              " 1,\n",
              " 7,\n",
              " 9,\n",
              " 6,\n",
              " 1,\n",
              " 1,\n",
              " 2,\n",
              " 4,\n",
              " 3,\n",
              " 1,\n",
              " 7,\n",
              " 7,\n",
              " 4,\n",
              " 8,\n",
              " 0,\n",
              " 7,\n",
              " 3,\n",
              " 1,\n",
              " 3,\n",
              " 1,\n",
              " 0,\n",
              " 7,\n",
              " 7,\n",
              " 0,\n",
              " 3,\n",
              " 5,\n",
              " 5,\n",
              " 2,\n",
              " 7,\n",
              " 6,\n",
              " 6,\n",
              " 9,\n",
              " 2,\n",
              " 8,\n",
              " 3,\n",
              " 5,\n",
              " 2,\n",
              " 2,\n",
              " 5,\n",
              " 6,\n",
              " 0,\n",
              " 8,\n",
              " 2,\n",
              " 4,\n",
              " 2,\n",
              " 8,\n",
              " 8,\n",
              " 8,\n",
              " 8,\n",
              " 7,\n",
              " 4,\n",
              " 7,\n",
              " 3,\n",
              " 0,\n",
              " 6,\n",
              " 6,\n",
              " 3,\n",
              " 2,\n",
              " 1,\n",
              " 3,\n",
              " 2,\n",
              " 2,\n",
              " 9,\n",
              " 3,\n",
              " 0,\n",
              " 0,\n",
              " 5,\n",
              " 7,\n",
              " 8,\n",
              " 3,\n",
              " 4,\n",
              " 4,\n",
              " 6,\n",
              " 0,\n",
              " 2,\n",
              " 9,\n",
              " 1,\n",
              " 4,\n",
              " 7,\n",
              " 4,\n",
              " 7,\n",
              " 3,\n",
              " 9,\n",
              " 8,\n",
              " 8,\n",
              " 4,\n",
              " 7,\n",
              " 1,\n",
              " 2,\n",
              " 1,\n",
              " 2,\n",
              " 2,\n",
              " 3,\n",
              " 7,\n",
              " 3,\n",
              " 2,\n",
              " 3,\n",
              " 9,\n",
              " 1,\n",
              " 7,\n",
              " 4,\n",
              " 0,\n",
              " 3,\n",
              " 5,\n",
              " 5,\n",
              " 8,\n",
              " 6,\n",
              " 5,\n",
              " 2,\n",
              " 6,\n",
              " 7,\n",
              " 6,\n",
              " 6,\n",
              " 3,\n",
              " 2,\n",
              " 7,\n",
              " 8,\n",
              " 1,\n",
              " 1,\n",
              " 7,\n",
              " 4,\n",
              " 6,\n",
              " 4,\n",
              " 9,\n",
              " 5,\n",
              " 1,\n",
              " 3,\n",
              " 3,\n",
              " 9,\n",
              " 7,\n",
              " 8,\n",
              " 9,\n",
              " 1,\n",
              " 1,\n",
              " 0,\n",
              " 9,\n",
              " 1,\n",
              " 4,\n",
              " 4,\n",
              " 5,\n",
              " 4,\n",
              " 0,\n",
              " 6,\n",
              " 2,\n",
              " 2,\n",
              " 3,\n",
              " 1,\n",
              " 5,\n",
              " 1,\n",
              " 2,\n",
              " 0,\n",
              " 3,\n",
              " 8,\n",
              " 1,\n",
              " 2,\n",
              " 6,\n",
              " 7,\n",
              " 1,\n",
              " 6,\n",
              " 2,\n",
              " 3,\n",
              " 9,\n",
              " 0,\n",
              " 1,\n",
              " 2,\n",
              " 2,\n",
              " 0,\n",
              " 8,\n",
              " 9,\n",
              " ...]"
            ]
          },
          "metadata": {},
          "execution_count": 256
        }
      ]
    },
    {
      "cell_type": "code",
      "source": [
        "plt.imshow(X_train[1])\n",
        "plt.show()"
      ],
      "metadata": {
        "colab": {
          "base_uri": "https://localhost:8080/",
          "height": 430
        },
        "id": "S301nzYw-7kc",
        "outputId": "4501cf6b-4e27-4a88-bbbe-6a75a1304465"
      },
      "execution_count": 257,
      "outputs": [
        {
          "output_type": "display_data",
          "data": {
            "text/plain": [
              "<Figure size 640x480 with 1 Axes>"
            ],
            "image/png": "[encoded data removed]"
          },
          "metadata": {}
        }
      ]
    },
    {
      "cell_type": "code",
      "source": [
        "X_train[0].shape"
      ],
      "metadata": {
        "colab": {
          "base_uri": "https://localhost:8080/"
        },
        "id": "1wlYeIySAuuK",
        "outputId": "335ff374-07b3-448e-9cfb-a1d8d7bf236c"
      },
      "execution_count": 258,
      "outputs": [
        {
          "output_type": "execute_result",
          "data": {
            "text/plain": [
              "(28, 28)"
            ]
          },
          "metadata": {},
          "execution_count": 258
        }
      ]
    },
    {
      "cell_type": "code",
      "source": [
        "# confusion matrix\n",
        "conf_mat = confusion_matrix(Y_test,Y_pred_lables)\n",
        "conf_mat"
      ],
      "metadata": {
        "colab": {
          "base_uri": "https://localhost:8080/"
        },
        "id": "cck-XXejBZTz",
        "outputId": "663e83fb-8d2a-42d4-972e-b39115d92ac0"
      },
      "execution_count": 259,
      "outputs": [
        {
          "output_type": "execute_result",
          "data": {
            "text/plain": [
              "<tf.Tensor: shape=(10, 10), dtype=int32, numpy=\n",
              "array([[ 961,    0,    4,    1,    1,    4,    1,    2,    2,    4],\n",
              "       [   0, 1127,    2,    2,    0,    1,    1,    0,    2,    0],\n",
              "       [   3,    4, 1005,    3,    4,    2,    3,    5,    2,    1],\n",
              "       [   0,    1,    8,  967,    1,   16,    0,    6,    5,    6],\n",
              "       [   2,    0,    2,    0,  943,    0,    5,    4,    2,   24],\n",
              "       [   2,    0,    0,    7,    2,  870,    4,    3,    3,    1],\n",
              "       [   3,    2,    2,    1,    7,    4,  937,    0,    1,    1],\n",
              "       [   0,    7,   14,    2,    1,    0,    0,  997,    2,    5],\n",
              "       [   8,    0,    8,   11,    7,   14,    2,    2,  920,    2],\n",
              "       [   2,    4,    2,    9,   10,    6,    0,   23,   10,  943]],\n",
              "      dtype=int32)>"
            ]
          },
          "metadata": {},
          "execution_count": 259
        }
      ]
    },
    {
      "cell_type": "code",
      "source": [
        "plt.figure(figsize=(15,7))\n",
        "sns.heatmap(conf_mat,annot=True,fmt='d',cmap='Blues')\n",
        "plt.ylabel('True Lables')\n",
        "plt.xlabel(\"Predicted Labels\")"
      ],
      "metadata": {
        "colab": {
          "base_uri": "https://localhost:8080/",
          "height": 387
        },
        "id": "YaQYYnYdeG_F",
        "outputId": "c2ab929d-826a-46bd-9a08-feff9eba81af"
      },
      "execution_count": 260,
      "outputs": [
        {
          "output_type": "execute_result",
          "data": {
            "text/plain": [
              "Text(0.5, 47.7222222222222, 'Predicted Labels')"
            ]
          },
          "metadata": {},
          "execution_count": 260
        },
        {
          "output_type": "display_data",
          "data": {
            "text/plain": [
              "<Figure size 1500x700 with 2 Axes>"
            ],
            "image/png": "[encoded data removed]"
          },
          "metadata": {}
        }
      ]
    },
    {
      "cell_type": "code",
      "source": [
        "# predicting image\n",
        "input_image_path = '/content/seven.png'\n",
        "input_image = cv2.imread(input_image_path)"
      ],
      "metadata": {
        "id": "zleqgUsYfN3u"
      },
      "execution_count": 261,
      "outputs": []
    },
    {
      "cell_type": "code",
      "source": [
        "type(input_image)"
      ],
      "metadata": {
        "colab": {
          "base_uri": "https://localhost:8080/"
        },
        "id": "SHe33CH0gIpw",
        "outputId": "7c94e00e-ea08-4c6e-96b1-dcaafea73769"
      },
      "execution_count": 262,
      "outputs": [
        {
          "output_type": "execute_result",
          "data": {
            "text/plain": [
              "numpy.ndarray"
            ]
          },
          "metadata": {},
          "execution_count": 262
        }
      ]
    },
    {
      "cell_type": "code",
      "source": [
        "cv2_imshow(input_image)"
      ],
      "metadata": {
        "colab": {
          "base_uri": "https://localhost:8080/",
          "height": 671
        },
        "id": "obL0OtJRgS6V",
        "outputId": "4963eee1-1db4-425c-c72a-11a77954b9b1"
      },
      "execution_count": 263,
      "outputs": [
        {
          "output_type": "display_data",
          "data": {
            "text/plain": [
              "<PIL.Image.Image image mode=RGB size=1490x1480>"
            ],
            "image/png": "[encoded data removed]"
          },
          "metadata": {}
        }
      ]
    },
    {
      "cell_type": "code",
      "source": [
        "input_image.shape"
      ],
      "metadata": {
        "colab": {
          "base_uri": "https://localhost:8080/"
        },
        "id": "81SJnsdxgdxh",
        "outputId": "c2fef0af-ce70-4912-e3f6-9fa18eb83ea1"
      },
      "execution_count": 264,
      "outputs": [
        {
          "output_type": "execute_result",
          "data": {
            "text/plain": [
              "(1480, 1490, 3)"
            ]
          },
          "metadata": {},
          "execution_count": 264
        }
      ]
    },
    {
      "cell_type": "code",
      "source": [
        "grayscale = cv2.cvtColor(input_image,cv2.COLOR_RGB2GRAY)"
      ],
      "metadata": {
        "id": "cH5wg6aPhSJX"
      },
      "execution_count": 265,
      "outputs": []
    },
    {
      "cell_type": "code",
      "source": [
        "grayscale.shape"
      ],
      "metadata": {
        "colab": {
          "base_uri": "https://localhost:8080/"
        },
        "id": "UJi4_n-Qhgbn",
        "outputId": "75df9bf6-cb6f-404d-9425-a841e65bc48c"
      },
      "execution_count": 266,
      "outputs": [
        {
          "output_type": "execute_result",
          "data": {
            "text/plain": [
              "(1480, 1490)"
            ]
          },
          "metadata": {},
          "execution_count": 266
        }
      ]
    },
    {
      "cell_type": "code",
      "source": [
        "cv2_imshow(grayscale)"
      ],
      "metadata": {
        "colab": {
          "base_uri": "https://localhost:8080/",
          "height": 671
        },
        "id": "YXFEhMbxh0Ou",
        "outputId": "6ba67975-3015-46ec-c484-e4d445caadc2"
      },
      "execution_count": 267,
      "outputs": [
        {
          "output_type": "display_data",
          "data": {
            "text/plain": [
              "<PIL.Image.Image image mode=L size=1490x1480>"
            ],
            "image/png": "[encoded data removed]"
          },
          "metadata": {}
        }
      ]
    },
    {
      "cell_type": "code",
      "source": [
        "input_image_resize = cv2.resize(grayscale,(28,28))"
      ],
      "metadata": {
        "id": "sDLfrcMCh393"
      },
      "execution_count": 268,
      "outputs": []
    },
    {
      "cell_type": "code",
      "source": [
        "input_image_resize.shape"
      ],
      "metadata": {
        "colab": {
          "base_uri": "https://localhost:8080/"
        },
        "id": "OLMuHLe7iHoa",
        "outputId": "3fc5fae6-f951-491b-d0ab-50e748755c32"
      },
      "execution_count": 269,
      "outputs": [
        {
          "output_type": "execute_result",
          "data": {
            "text/plain": [
              "(28, 28)"
            ]
          },
          "metadata": {},
          "execution_count": 269
        }
      ]
    },
    {
      "cell_type": "code",
      "source": [
        "cv2_imshow(input_image_resize)"
      ],
      "metadata": {
        "colab": {
          "base_uri": "https://localhost:8080/",
          "height": 45
        },
        "id": "zDp5qudYiJIl",
        "outputId": "ea3ec173-472f-4af1-fe98-812d315f3ddd"
      },
      "execution_count": 270,
      "outputs": [
        {
          "output_type": "display_data",
          "data": {
            "text/plain": [
              "<PIL.Image.Image image mode=L size=28x28>"
            ],
            "image/png": "[encoded data removed]"
          },
          "metadata": {}
        }
      ]
    },
    {
      "cell_type": "code",
      "source": [
        "input_image_resize"
      ],
      "metadata": {
        "colab": {
          "base_uri": "https://localhost:8080/",
          "height": 68
        },
        "id": "yBqdpyr4iRrU",
        "outputId": "34e7df73-2f11-484e-a660-88d39ceb61bd"
      },
      "execution_count": 271,
      "outputs": [
        {
          "output_type": "execute_result",
          "data": {
            "text/plain": [
              "array([[  0,   0,   0,   0,   0,   0,   0,   0,   0,   0,   0,   0,   0,\n",
              "          0,   0,   0,   0,   0,   0,   0,   0,   0,   0,   0,   0,   0,\n",
              "          0,   0],\n",
              "       [  0,   0,   0,   0,   0,   0,   0,   0,   0,   0,   0,   0,   0,\n",
              "          0,   0,   0,   0,   0,   0,   0,   0,   0,   0,   0,   0,   0,\n",
              "          0,   0],\n",
              "       [  0,   0,   0,   0,   0,   0,   0,   0,   0,   0,   0,   0,   0,\n",
              "          0,   0,   0,   0,   0,   0,   0,   0,   0,   0,   0,   0,   0,\n",
              "          0,   0],\n",
              "       [  0,   0,   0,   0,   0,   0,   0,   0,   0,   0,   0,   0,   0,\n",
              "          0,   0,   0,   0,   0,   0,   0,   0,   0,   0,   0,   0,   0,\n",
              "          0,   0],\n",
              "       [  0,   0,   0,   0,   0,   0,   0,   0,   0,   0,   0,   0,   0,\n",
              "          0,   0,   0,   0,   0,   0,   0,   0,   0,   0,   0,   0,   0,\n",
              "          0,   0],\n",
              "       [  0,   0,   0,   0,   0,   0,   0,   0,   0,   0,   0,   0,   0,\n",
              "          0,   0,   0,   0,   0,   0,   0,   0,   0,   0,   0,   0,   0,\n",
              "          0,   0],\n",
              "       [  0,   0,   0,   0,   0,   0,   0,   0,   0,   0,   0,   0,   0,\n",
              "          0,   0,   0,   0,   0,   0,   0,   0,   0,   0,   0,   0,   0,\n",
              "          0,   0],\n",
              "       [  0,   0,   0,   0,   0,   0,  80, 185, 157, 155,  59,  37,   0,\n",
              "          0,   0,   0,   0,   0,   0,   0,   0,   0,   0,   0,   0,   0,\n",
              "          0,   0],\n",
              "       [  0,   0,   0,   0,   0,   0, 221, 255, 252, 255, 255, 244, 198,\n",
              "        198, 198, 198, 198, 198, 198, 198, 167,  50,   0,   0,   0,   0,\n",
              "          0,   0],\n",
              "       [  0,   0,   0,   0,   0,   0,  67, 115,  68, 116, 160, 226, 254,\n",
              "        224, 255, 254, 254, 250, 228, 252, 254, 135,   0,   0,   0,   0,\n",
              "          0,   0],\n",
              "       [  0,   0,   0,   0,   0,   0,   0,   0,   0,   0,   0,  18,  63,\n",
              "         12,  67,  67,  67,  59,  24, 234, 253, 104,   0,   0,   0,   0,\n",
              "          0,   0],\n",
              "       [  0,   0,   0,   0,   0,   0,   0,   0,   0,   0,   0,   0,   0,\n",
              "          0,   0,   0,   0,   0,  80, 253, 206,  18,   0,   0,   0,   0,\n",
              "          0,   0],\n",
              "       [  0,   0,   0,   0,   0,   0,   0,   0,   0,   0,   0,   0,   0,\n",
              "          0,   0,   0,   0,  20, 230, 255,  89,   0,   0,   0,   0,   0,\n",
              "          0,   0],\n",
              "       [  0,   0,   0,   0,   0,   0,   0,   0,   0,   0,   0,   0,   0,\n",
              "          0,   0,   0,   0, 129, 255, 231,  45,   0,   0,   0,   0,   0,\n",
              "          0,   0],\n",
              "       [  0,   0,   0,   0,   0,   0,   0,   0,   0,   0,   0,   0,   0,\n",
              "          0,   0,   0,  59, 248, 255,  65,   0,   0,   0,   0,   0,   0,\n",
              "          0,   0],\n",
              "       [  0,   0,   0,   0,   0,   0,   0,   0,   0,   0,   0,   0,   0,\n",
              "          0,   0,   0, 132, 254, 185,   5,   0,   0,   0,   0,   0,   0,\n",
              "          0,   0],\n",
              "       [  0,   0,   0,   0,   0,   0,   0,   0,   0,   0,   0,   0,   0,\n",
              "          0,   0,   7, 203, 249,  59,   0,   0,   0,   0,   0,   0,   0,\n",
              "          0,   0],\n",
              "       [  0,   0,   0,   0,   0,   0,   0,   0,   0,   0,   0,   0,   0,\n",
              "          0,   0, 123, 254, 178,   0,   0,   0,   0,   0,   0,   0,   0,\n",
              "          0,   0],\n",
              "       [  0,   0,   0,   0,   0,   0,   0,   0,   0,   0,   0,   0,   0,\n",
              "          0,  79, 251, 240,  57,   0,   0,   0,   0,   0,   0,   0,   0,\n",
              "          0,   0],\n",
              "       [  0,   0,   0,   0,   0,   0,   0,   0,   0,   0,   0,   0,   0,\n",
              "         18, 221, 255, 167,   0,   0,   0,   0,   0,   0,   0,   0,   0,\n",
              "          0,   0],\n",
              "       [  0,   0,   0,   0,   0,   0,   0,   0,   0,   0,   0,   0,   2,\n",
              "        199, 251, 217,  37,   0,   0,   0,   0,   0,   0,   0,   0,   0,\n",
              "          0,   0],\n",
              "       [  0,   0,   0,   0,   0,   0,   0,   0,   0,   0,   0,   0,  37,\n",
              "        255, 254,  76,   0,   0,   0,   0,   0,   0,   0,   0,   0,   0,\n",
              "          0,   0],\n",
              "       [  0,   0,   0,   0,   0,   0,   0,   0,   0,   0,   0,  31, 226,\n",
              "        251, 112,   0,   0,   0,   0,   0,   0,   0,   0,   0,   0,   0,\n",
              "          0,   0],\n",
              "       [  0,   0,   0,   0,   0,   0,   0,   0,   0,   0,   0, 132, 253,\n",
              "        253,  55,   0,   0,   0,   0,   0,   0,   0,   0,   0,   0,   0,\n",
              "          0,   0],\n",
              "       [  0,   0,   0,   0,   0,   0,   0,   0,   0,   0,  59, 243, 253,\n",
              "        255,  50,   0,   0,   0,   0,   0,   0,   0,   0,   0,   0,   0,\n",
              "          0,   0],\n",
              "       [  0,   0,   0,   0,   0,   0,   0,   0,   0,   0, 121, 255, 255,\n",
              "        220,  37,   0,   0,   0,   0,   0,   0,   0,   0,   0,   0,   0,\n",
              "          0,   0],\n",
              "       [  0,   0,   0,   0,   0,   0,   0,   0,   0,   0, 119, 254, 206,\n",
              "         18,   0,   0,   0,   0,   0,   0,   0,   0,   0,   0,   0,   0,\n",
              "          0,   0],\n",
              "       [  0,   0,   0,   0,   0,   0,   0,   0,   0,   0,   0,   0,   0,\n",
              "          0,   0,   0,   0,   0,   0,   0,   0,   0,   0,   0,   0,   0,\n",
              "          0,   0]], dtype=uint8)"
            ],
            "text/html": [
              "<style>\n",
              "      .ndarray_repr .ndarray_raw_data {\n",
              "        display: none;\n",
              "      }\n",
              "      .ndarray_repr.show_array .ndarray_raw_data {\n",
              "        display: block;\n",
              "      }\n",
              "      .ndarray_repr.show_array .ndarray_image_preview {\n",
              "        display: none;\n",
              "      }\n",
              "      </style>\n",
              "      <div id=\"id-25c5b92e-6b6b-4063-a0d6-fc7af48fa28b\" class=\"ndarray_repr\"><pre>ndarray (28, 28) <button style=\"padding: 0 2px;\">show data</button></pre><img src=\"data:image/png;base64,iVBORw0KGgoAAAANSUhEUgAAABwAAAAcCAAAAABXZoBIAAAAxElEQVR4nGNgGDaAEUIFZD75t+DVbeySd5X+MjN8vQQVfNh9joGBgYGBBcJNM7hooONk8Uj+P8OfVxIWD84h62RgYGBgENI9a87A8OPuJeHsGbicEfD3nBAuOZFn/yNxur/x/3NdXHLWP/474tTY8m8nKy459tM/rXFqrP63Caec/+8PlrjkhO7+X45Ljun475uquCRV///zwSUn/+h3AU7XtPz9a45Lzvrz3/9GKCIsCKYdD8Pdz7gk//2/4PIOp50YAADnh0D2SZDpBQAAAABJRU5ErkJggg==\" class=\"ndarray_image_preview\" /><pre class=\"ndarray_raw_data\">array([[  0,   0,   0,   0,   0,   0,   0,   0,   0,   0,   0,   0,   0,\n",
              "          0,   0,   0,   0,   0,   0,   0,   0,   0,   0,   0,   0,   0,\n",
              "          0,   0],\n",
              "       [  0,   0,   0,   0,   0,   0,   0,   0,   0,   0,   0,   0,   0,\n",
              "          0,   0,   0,   0,   0,   0,   0,   0,   0,   0,   0,   0,   0,\n",
              "          0,   0],\n",
              "       [  0,   0,   0,   0,   0,   0,   0,   0,   0,   0,   0,   0,   0,\n",
              "          0,   0,   0,   0,   0,   0,   0,   0,   0,   0,   0,   0,   0,\n",
              "          0,   0],\n",
              "       [  0,   0,   0,   0,   0,   0,   0,   0,   0,   0,   0,   0,   0,\n",
              "          0,   0,   0,   0,   0,   0,   0,   0,   0,   0,   0,   0,   0,\n",
              "          0,   0],\n",
              "       [  0,   0,   0,   0,   0,   0,   0,   0,   0,   0,   0,   0,   0,\n",
              "          0,   0,   0,   0,   0,   0,   0,   0,   0,   0,   0,   0,   0,\n",
              "          0,   0],\n",
              "       [  0,   0,   0,   0,   0,   0,   0,   0,   0,   0,   0,   0,   0,\n",
              "          0,   0,   0,   0,   0,   0,   0,   0,   0,   0,   0,   0,   0,\n",
              "          0,   0],\n",
              "       [  0,   0,   0,   0,   0,   0,   0,   0,   0,   0,   0,   0,   0,\n",
              "          0,   0,   0,   0,   0,   0,   0,   0,   0,   0,   0,   0,   0,\n",
              "          0,   0],\n",
              "       [  0,   0,   0,   0,   0,   0,  80, 185, 157, 155,  59,  37,   0,\n",
              "          0,   0,   0,   0,   0,   0,   0,   0,   0,   0,   0,   0,   0,\n",
              "          0,   0],\n",
              "       [  0,   0,   0,   0,   0,   0, 221, 255, 252, 255, 255, 244, 198,\n",
              "        198, 198, 198, 198, 198, 198, 198, 167,  50,   0,   0,   0,   0,\n",
              "          0,   0],\n",
              "       [  0,   0,   0,   0,   0,   0,  67, 115,  68, 116, 160, 226, 254,\n",
              "        224, 255, 254, 254, 250, 228, 252, 254, 135,   0,   0,   0,   0,\n",
              "          0,   0],\n",
              "       [  0,   0,   0,   0,   0,   0,   0,   0,   0,   0,   0,  18,  63,\n",
              "         12,  67,  67,  67,  59,  24, 234, 253, 104,   0,   0,   0,   0,\n",
              "          0,   0],\n",
              "       [  0,   0,   0,   0,   0,   0,   0,   0,   0,   0,   0,   0,   0,\n",
              "          0,   0,   0,   0,   0,  80, 253, 206,  18,   0,   0,   0,   0,\n",
              "          0,   0],\n",
              "       [  0,   0,   0,   0,   0,   0,   0,   0,   0,   0,   0,   0,   0,\n",
              "          0,   0,   0,   0,  20, 230, 255,  89,   0,   0,   0,   0,   0,\n",
              "          0,   0],\n",
              "       [  0,   0,   0,   0,   0,   0,   0,   0,   0,   0,   0,   0,   0,\n",
              "          0,   0,   0,   0, 129, 255, 231,  45,   0,   0,   0,   0,   0,\n",
              "          0,   0],\n",
              "       [  0,   0,   0,   0,   0,   0,   0,   0,   0,   0,   0,   0,   0,\n",
              "          0,   0,   0,  59, 248, 255,  65,   0,   0,   0,   0,   0,   0,\n",
              "          0,   0],\n",
              "       [  0,   0,   0,   0,   0,   0,   0,   0,   0,   0,   0,   0,   0,\n",
              "          0,   0,   0, 132, 254, 185,   5,   0,   0,   0,   0,   0,   0,\n",
              "          0,   0],\n",
              "       [  0,   0,   0,   0,   0,   0,   0,   0,   0,   0,   0,   0,   0,\n",
              "          0,   0,   7, 203, 249,  59,   0,   0,   0,   0,   0,   0,   0,\n",
              "          0,   0],\n",
              "       [  0,   0,   0,   0,   0,   0,   0,   0,   0,   0,   0,   0,   0,\n",
              "          0,   0, 123, 254, 178,   0,   0,   0,   0,   0,   0,   0,   0,\n",
              "          0,   0],\n",
              "       [  0,   0,   0,   0,   0,   0,   0,   0,   0,   0,   0,   0,   0,\n",
              "          0,  79, 251, 240,  57,   0,   0,   0,   0,   0,   0,   0,   0,\n",
              "          0,   0],\n",
              "       [  0,   0,   0,   0,   0,   0,   0,   0,   0,   0,   0,   0,   0,\n",
              "         18, 221, 255, 167,   0,   0,   0,   0,   0,   0,   0,   0,   0,\n",
              "          0,   0],\n",
              "       [  0,   0,   0,   0,   0,   0,   0,   0,   0,   0,   0,   0,   2,\n",
              "        199, 251, 217,  37,   0,   0,   0,   0,   0,   0,   0,   0,   0,\n",
              "          0,   0],\n",
              "       [  0,   0,   0,   0,   0,   0,   0,   0,   0,   0,   0,   0,  37,\n",
              "        255, 254,  76,   0,   0,   0,   0,   0,   0,   0,   0,   0,   0,\n",
              "          0,   0],\n",
              "       [  0,   0,   0,   0,   0,   0,   0,   0,   0,   0,   0,  31, 226,\n",
              "        251, 112,   0,   0,   0,   0,   0,   0,   0,   0,   0,   0,   0,\n",
              "          0,   0],\n",
              "       [  0,   0,   0,   0,   0,   0,   0,   0,   0,   0,   0, 132, 253,\n",
              "        253,  55,   0,   0,   0,   0,   0,   0,   0,   0,   0,   0,   0,\n",
              "          0,   0],\n",
              "       [  0,   0,   0,   0,   0,   0,   0,   0,   0,   0,  59, 243, 253,\n",
              "        255,  50,   0,   0,   0,   0,   0,   0,   0,   0,   0,   0,   0,\n",
              "          0,   0],\n",
              "       [  0,   0,   0,   0,   0,   0,   0,   0,   0,   0, 121, 255, 255,\n",
              "        220,  37,   0,   0,   0,   0,   0,   0,   0,   0,   0,   0,   0,\n",
              "          0,   0],\n",
              "       [  0,   0,   0,   0,   0,   0,   0,   0,   0,   0, 119, 254, 206,\n",
              "         18,   0,   0,   0,   0,   0,   0,   0,   0,   0,   0,   0,   0,\n",
              "          0,   0],\n",
              "       [  0,   0,   0,   0,   0,   0,   0,   0,   0,   0,   0,   0,   0,\n",
              "          0,   0,   0,   0,   0,   0,   0,   0,   0,   0,   0,   0,   0,\n",
              "          0,   0]], dtype=uint8)</pre></div><script>\n",
              "      (() => {\n",
              "      const titles = ['show data', 'hide data'];\n",
              "      let index = 0\n",
              "      document.querySelector('#id-25c5b92e-6b6b-4063-a0d6-fc7af48fa28b button').onclick = (e) => {\n",
              "        document.querySelector('#id-25c5b92e-6b6b-4063-a0d6-fc7af48fa28b').classList.toggle('show_array');\n",
              "        index = (++index) % 2;\n",
              "        document.querySelector('#id-25c5b92e-6b6b-4063-a0d6-fc7af48fa28b button').textContent = titles[index];\n",
              "        e.preventDefault();\n",
              "        e.stopPropagation();\n",
              "      }\n",
              "      })();\n",
              "    </script>"
            ]
          },
          "metadata": {},
          "execution_count": 271
        }
      ]
    },
    {
      "cell_type": "code",
      "source": [
        "input_image_resize = input_image_resize/255"
      ],
      "metadata": {
        "id": "RZETnASAimF3"
      },
      "execution_count": 272,
      "outputs": []
    },
    {
      "cell_type": "code",
      "source": [
        "image_reshape = np.reshape(input_image_resize,[1,28,28])"
      ],
      "metadata": {
        "id": "YckpItX0izWi"
      },
      "execution_count": 273,
      "outputs": []
    },
    {
      "cell_type": "code",
      "source": [
        "predi = model.predict(image_reshape)\n",
        "np.argmax(predi)"
      ],
      "metadata": {
        "colab": {
          "base_uri": "https://localhost:8080/"
        },
        "id": "d8qsnV8AjRWR",
        "outputId": "58031b1e-2925-4ad9-b04b-85a6b712d465"
      },
      "execution_count": 274,
      "outputs": [
        {
          "output_type": "stream",
          "name": "stdout",
          "text": [
            "1/1 [==============================] - 0s 30ms/step\n"
          ]
        },
        {
          "output_type": "execute_result",
          "data": {
            "text/plain": [
              "7"
            ]
          },
          "metadata": {},
          "execution_count": 274
        }
      ]
    },
    {
      "cell_type": "code",
      "source": [
        "# predictive system\n",
        "path = input('Enter path of the image')\n",
        "input_image = cv2.imread(path)\n",
        "print(type(input_image))\n",
        "input_image_gray = cv2.cvtColor(input_image,cv2.COLOR_RGB2GRAY)\n",
        "input_reshape = cv2.resize(input_image_gray,(28,28))\n",
        "cv2_imshow(input_reshape)\n",
        "input_res = np.reshape(input_reshape,[1,28,28])\n",
        "input_res = input_res/255\n",
        "pred = model.predict(input_res)\n",
        "print(\"The Predicted number is \",np.argmax(pred))"
      ],
      "metadata": {
        "id": "vvLLIET1jd9c",
        "colab": {
          "base_uri": "https://localhost:8080/",
          "height": 114
        },
        "outputId": "13d3caf9-1a81-4428-8cbf-b2e44c09d774"
      },
      "execution_count": 276,
      "outputs": [
        {
          "output_type": "stream",
          "name": "stdout",
          "text": [
            "Enter path of the image/content/three.png\n",
            "<class 'numpy.ndarray'>\n"
          ]
        },
        {
          "output_type": "display_data",
          "data": {
            "text/plain": [
              "<PIL.Image.Image image mode=L size=28x28>"
            ],
            "image/png": "[encoded data removed]"
          },
          "metadata": {}
        },
        {
          "output_type": "stream",
          "name": "stdout",
          "text": [
            "1/1 [==============================] - 0s 34ms/step\n",
            "The Predicted number is  3\n"
          ]
        }
      ]
    }
  ]
}